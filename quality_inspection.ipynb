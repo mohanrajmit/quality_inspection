{
  "cells": [
    {
      "cell_type": "markdown",
      "metadata": {
        "id": "view-in-github",
        "colab_type": "text"
      },
      "source": [
        "<a href=\"https://colab.research.google.com/github/mohanrajmit/quality_inspection/blob/main/quality_inspection.ipynb\" target=\"_parent\"><img src=\"https://colab.research.google.com/assets/colab-badge.svg\" alt=\"Open In Colab\"/></a>"
      ]
    },
    {
      "cell_type": "markdown",
      "metadata": {
        "id": "c2zIuU2I70fY"
      },
      "source": [
        "#### 1. Install TensorFlow Object Detection API\n",
        "- For latest install instructions, check the [github](https://github.com/tensorflow/models/tree/master/research/object_detection) page or [readthedocs](https://tensorflow-object-detection-api-tutorial.readthedocs.io/en/latest/training.html) site for this API."
      ]
    },
    {
      "cell_type": "code",
      "execution_count": null,
      "metadata": {
        "id": "yj_ujSb4C_mB"
      },
      "outputs": [],
      "source": [
        "#Clone github repository\n",
        "!git clone https://github.com/tensorflow/models"
      ]
    },
    {
      "cell_type": "markdown",
      "metadata": {
        "id": "tah1nb6bDHcZ"
      },
      "source": [
        "Install TensorFlow Object Detection API"
      ]
    },
    {
      "cell_type": "code",
      "execution_count": null,
      "metadata": {
        "id": "bBVJ65JPCnpJ"
      },
      "outputs": [],
      "source": [
        "%%bash\n",
        "cd models/research\n",
        "# Compile protos.\n",
        "protoc object_detection/protos/*.proto --python_out=.\n",
        "# Install TensorFlow Object Detection API.\n",
        "cp object_detection/packages/tf2/setup.py .\n",
        "python -m pip install --use-feature=2020-resolver ."
      ]
    },
    {
      "cell_type": "code",
      "execution_count": null,
      "metadata": {
        "id": "rTX7CyFED2zZ"
      },
      "outputs": [],
      "source": [
        "#Check if Object Detection API is installed\n",
        "!pip list | grep object-detection"
      ]
    },
    {
      "cell_type": "markdown",
      "metadata": {
        "id": "vx8_pjTsGorG"
      },
      "source": [
        "#### 2. Download dataset"
      ]
    },
    {
      "cell_type": "markdown",
      "metadata": {
        "id": "34udzBTrJCMs"
      },
      "source": [
        "Create a directory for the project (e.g detection) and move to project directory."
      ]
    },
    {
      "cell_type": "code",
      "execution_count": null,
      "metadata": {
        "id": "sUGWdmsuIcz5"
      },
      "outputs": [],
      "source": [
        "#Come to the home directory - change if not running on  Colab\n",
        "%cd /content"
      ]
    },
    {
      "cell_type": "code",
      "execution_count": null,
      "metadata": {
        "id": "ZkuVzkeK2zj1"
      },
      "outputs": [],
      "source": [
        "#Create a folder for your project e.g in this case, detection. You can choose any name for the folder \n",
        "!mkdir detection"
      ]
    },
    {
      "cell_type": "code",
      "execution_count": null,
      "metadata": {
        "id": "IOo6xGEI-3A5"
      },
      "outputs": [],
      "source": [
        "#Go to the project folder\n",
        "%cd detection"
      ]
    },
    {
      "cell_type": "code",
      "execution_count": null,
      "metadata": {
        "id": "6HQKojVNk1SR"
      },
      "outputs": [],
      "source": [
        "!ls -l"
      ]
    },
    {
      "cell_type": "code",
      "execution_count": null,
      "metadata": {
        "id": "HpHu3zFnGsG0"
      },
      "outputs": [],
      "source": [
        "!git clone https://github.com/mohanrajmit/quality_inspection.git"
      ]
    },
    {
      "cell_type": "code",
      "execution_count": null,
      "metadata": {
        "id": "FsY8C01fRDjR"
      },
      "outputs": [],
      "source": [
        "import pandas as pd\n",
        "df_train = pd.read_csv('/content/detection/quality_inspection/train_labels.csv')\n",
        "df_train.head(5)"
      ]
    },
    {
      "cell_type": "code",
      "source": [
        "df_test = pd.read_csv('/content/detection/quality_inspection/test_labels.csv')\n",
        "df_test.head(5)"
      ],
      "metadata": {
        "id": "3yCk6v8equtO"
      },
      "execution_count": null,
      "outputs": []
    },
    {
      "cell_type": "code",
      "execution_count": null,
      "metadata": {
        "id": "FS4qN4dA-dnG"
      },
      "outputs": [],
      "source": [
        "#How many object across all images\n",
        "df_train.shape"
      ]
    },
    {
      "cell_type": "code",
      "source": [
        "df_test.shape"
      ],
      "metadata": {
        "id": "tJiss2p5q5BL"
      },
      "execution_count": null,
      "outputs": []
    },
    {
      "cell_type": "code",
      "execution_count": null,
      "metadata": {
        "id": "uhWYQeTlRTht"
      },
      "outputs": [],
      "source": [
        "#List of Classes\n",
        "df_train['class'].unique()"
      ]
    },
    {
      "cell_type": "code",
      "execution_count": null,
      "metadata": {
        "id": "fazU9o5iRYt7"
      },
      "outputs": [],
      "source": [
        "#Number of labels\n",
        "len(df_train['class'].unique())"
      ]
    },
    {
      "cell_type": "markdown",
      "metadata": {
        "id": "FbCMi1ssUCVa"
      },
      "source": [
        "We will need to Label encode classes e.g assign a unique index number for each class"
      ]
    },
    {
      "cell_type": "code",
      "execution_count": null,
      "metadata": {
        "id": "shN8PgyTUFFv"
      },
      "outputs": [],
      "source": [
        "#Use Label encoder available in Scikit Learn\n",
        "from sklearn import preprocessing"
      ]
    },
    {
      "cell_type": "code",
      "execution_count": null,
      "metadata": {
        "id": "1KfwMfHoUGKd"
      },
      "outputs": [],
      "source": [
        "#Label Encode class and add a 'label' column to the dataframe\n",
        "le = preprocessing.LabelEncoder()\n",
        "df_train['label'] = le.fit_transform(df_train['class'])\n",
        "df_train.head()"
      ]
    },
    {
      "cell_type": "code",
      "source": [
        "df_test['label'] = le.transform(df_test['class'])\n",
        "df_test.head()"
      ],
      "metadata": {
        "id": "virgIM6sq-1E"
      },
      "execution_count": null,
      "outputs": []
    },
    {
      "cell_type": "code",
      "execution_count": null,
      "metadata": {
        "id": "HcQQgy3DUc7a"
      },
      "outputs": [],
      "source": [
        "#unique values in the label\n",
        "df_train.label.unique()"
      ]
    },
    {
      "cell_type": "code",
      "source": [
        "#unique values in the label\n",
        "df_test.label.unique()"
      ],
      "metadata": {
        "id": "7UXbcUFArKRA"
      },
      "execution_count": null,
      "outputs": []
    },
    {
      "cell_type": "code",
      "execution_count": null,
      "metadata": {
        "id": "dHD8fUDRaBi-"
      },
      "outputs": [],
      "source": [
        "#Object detection API expects index to start from 1 (and not 0)\n",
        "df_train['label'] = df_train['label'] + 1\n",
        "df_train.label.unique()"
      ]
    },
    {
      "cell_type": "code",
      "source": [
        "#Object detection API expects index to start from 1 (and not 0)\n",
        "df_test['label'] = df_test['label'] + 1\n",
        "df_test.label.unique()"
      ],
      "metadata": {
        "id": "h2HvpGmlrPUJ"
      },
      "execution_count": null,
      "outputs": []
    },
    {
      "cell_type": "code",
      "execution_count": null,
      "metadata": {
        "id": "jZiy8isyCCZU"
      },
      "outputs": [],
      "source": [
        "#Dataframe should have label column now\n",
        "df_train.head()"
      ]
    },
    {
      "cell_type": "code",
      "source": [
        "df_test.head()"
      ],
      "metadata": {
        "id": "C6NtQllkrUwe"
      },
      "execution_count": null,
      "outputs": []
    },
    {
      "cell_type": "code",
      "execution_count": null,
      "metadata": {
        "id": "wna0FoqMZw2h"
      },
      "outputs": [],
      "source": [
        "#Create a dictionary of Label and Class. This will be useful for building our second input to Model training\n",
        "label_class_dict = dict(zip(df_train['label'], df_train['class']))\n",
        "print(label_class_dict)"
      ]
    },
    {
      "cell_type": "markdown",
      "metadata": {
        "id": "4NJq-pBELXlX"
      },
      "source": [
        "**Visualizing the data**"
      ]
    },
    {
      "cell_type": "code",
      "execution_count": null,
      "metadata": {
        "id": "4i2iym_4OEaF"
      },
      "outputs": [],
      "source": [
        "#We will use opencv and matplotlib\n",
        "from matplotlib import pyplot as plt\n",
        "import cv2\n",
        "import numpy as np\n"
      ]
    },
    {
      "cell_type": "code",
      "source": [
        "img_path = \"/content/detection/quality_inspection/train\""
      ],
      "metadata": {
        "id": "cf2m8WPhrih1"
      },
      "execution_count": null,
      "outputs": []
    },
    {
      "cell_type": "code",
      "execution_count": null,
      "metadata": {
        "id": "q5ANh3SOLTzZ"
      },
      "outputs": [],
      "source": [
        "#Pickup a random image number\n",
        "img_num = np.random.randint(0, df_train.shape[0])\n",
        "\n",
        "#Read the image\n",
        "img_file = df_train.loc[img_num,'filename']\n",
        "img = cv2.imread(img_path + '/' + img_file)\n",
        "\n",
        "#Find all rows which have same file name\n",
        "rows_with_file = df_train[df_train['filename'] == img_file].index.tolist()\n",
        "\n",
        "#Draw rectangle(s) as per bounding box information\n",
        "print('Number of objects', len(rows_with_file))\n",
        "for i in rows_with_file:\n",
        "\n",
        "    #Get bounding box\n",
        "    xmin, ymin, xmax, ymax = df_train.loc[i, ['xmin', 'ymin', 'xmax', 'ymax']]\n",
        "    #Get Label\n",
        "    label = df_train.loc[i, 'class']\n",
        "    #Add bounding box\n",
        "    cv2.rectangle(img, (xmin,ymin), (xmax, ymax), (0,255,0), 2)\n",
        "    #Add text\n",
        "    cv2.putText(img,label,(xmin, ymin+10),cv2.FONT_HERSHEY_SIMPLEX, 0.7, (255, 255, 255), 2)\n",
        "\n",
        "#Convert BGR format (used by opencv to RGB format used by matplotlib)\n",
        "img = cv2.cvtColor(img, cv2.COLOR_BGR2RGB)\n",
        "\n",
        "#cv2.imshow('img', img)\n",
        "\n",
        "#Draw image using matplotlib\n",
        "plt.figure(figsize=(10,7))\n",
        "plt.imshow(img)\n",
        "plt.show()"
      ]
    },
    {
      "cell_type": "code",
      "execution_count": null,
      "metadata": {
        "id": "zLNvJ7AhCBY7"
      },
      "outputs": [],
      "source": [
        "df_train.groupby(['class']).count()"
      ]
    },
    {
      "cell_type": "markdown",
      "metadata": {
        "id": "p5_wHuLqVxb3"
      },
      "source": [
        "Save training and test data as csv"
      ]
    },
    {
      "cell_type": "code",
      "execution_count": null,
      "metadata": {
        "id": "A5mKamauV0Je"
      },
      "outputs": [],
      "source": [
        "df_train.to_csv('train.csv', index=False)\n",
        "df_test.to_csv('test.csv', index=False)"
      ]
    },
    {
      "cell_type": "markdown",
      "metadata": {
        "id": "OR1-LBNXHIwx"
      },
      "source": [
        "The script file requires 3 inputs\n",
        "\n",
        "1. --csv_input=<csv_file_path> : where is csv file located which was prepared in previous step\n",
        "2. --img_path=<images_folder> : where are the actual images stored\n",
        "3. --output_path=<output_file_path> : where the script can save the generated tfrecord file and what should be file name.\n",
        "\n",
        "We will run script for training and test csv separately to create two tfrecord files."
      ]
    },
    {
      "cell_type": "code",
      "execution_count": null,
      "metadata": {
        "id": "9AhiyJ3BRZVv"
      },
      "outputs": [],
      "source": [
        "#generate tfrecord for training data\n",
        "!python create_tfrecord.py --csv_input=train.csv  --img_path={img_path} --output_path=train.tfrecord"
      ]
    },
    {
      "cell_type": "code",
      "source": [
        "test_img_path = \"/content/detection/quality_inspection/test\""
      ],
      "metadata": {
        "id": "k_1enkyosFdF"
      },
      "execution_count": null,
      "outputs": []
    },
    {
      "cell_type": "code",
      "execution_count": null,
      "metadata": {
        "id": "UI6E0ogZYDr7"
      },
      "outputs": [],
      "source": [
        "#generate tfrecord for test data\n",
        "!python generate_tfrecord.py --csv_input=test.csv  --img_path={test_img_path} --output_path=test.tfrecord"
      ]
    },
    {
      "cell_type": "markdown",
      "metadata": {
        "id": "2xCyipZzYZr_"
      },
      "source": [
        "#### 5. Create Label Mapping File"
      ]
    },
    {
      "cell_type": "code",
      "execution_count": null,
      "metadata": {
        "id": "TV2dytODhW0X"
      },
      "outputs": [],
      "source": [
        "#Dict which was created earlier will be used for building Label Mapping file\n",
        "label_class_dict"
      ]
    },
    {
      "cell_type": "code",
      "execution_count": null,
      "metadata": {
        "id": "XxomQ0LyYeB5"
      },
      "outputs": [],
      "source": [
        "#Build a pbtxt label file using label and class name\n",
        "#This is required by Object detection API\n",
        "#You can prepare it manually as well.\n",
        "\n",
        "pbtxt_file_txt = ''\n",
        "for label in sorted(label_class_dict.keys()):\n",
        "    \n",
        "    pbtxt_file_txt += \"item {\\n  id: \" + str(label) + \"\\n  name: '\" +  label_class_dict[label] + \"'\\n}\\n\\n\"\n",
        "\n",
        "with open('label_map.txt','w') as pbfile:\n",
        "    pbfile.write(pbtxt_file_txt)"
      ]
    },
    {
      "cell_type": "code",
      "execution_count": null,
      "metadata": {
        "id": "ApGs7F-Lcf4B"
      },
      "outputs": [],
      "source": [
        "!ls -l"
      ]
    },
    {
      "cell_type": "code",
      "execution_count": null,
      "metadata": {
        "id": "ZM7b5TnvcK9_"
      },
      "outputs": [],
      "source": [
        "#Review the file content\n",
        "!cat label_map.txt"
      ]
    },
    {
      "cell_type": "markdown",
      "metadata": {
        "id": "kjxG56jeeFXk"
      },
      "source": [
        "#### 6. Download a pre-trained model\n",
        "\n",
        "A list of pre-trained models is available at [TensorFlow model zoo](https://github.com/tensorflow/models/blob/master/research/object_detection/g3doc/tf1_detection_zoo.md). We will use 'ssd_mobilenet_v1_coco' model for transfer learning."
      ]
    },
    {
      "cell_type": "code",
      "execution_count": null,
      "metadata": {
        "id": "ZNE5_ol7eJCE"
      },
      "outputs": [],
      "source": [
        "#Download the model from zoo\n",
        "!wget -q http://download.tensorflow.org/models/object_detection/tf2/20200711/ssd_mobilenet_v2_320x320_coco17_tpu-8.tar.gz"
      ]
    },
    {
      "cell_type": "code",
      "execution_count": null,
      "metadata": {
        "id": "cqmqI0fGiI5D"
      },
      "outputs": [],
      "source": [
        "#Extract tar file content\n",
        "!tar -xf ssd_mobilenet_v2_320x320_coco17_tpu-8.tar.gz"
      ]
    },
    {
      "cell_type": "markdown",
      "metadata": {
        "id": "Yfu0k9k0e-CV"
      },
      "source": [
        "#### 7. Prepare Training configuration file\n",
        "\n",
        "1. Change num_classes parameter to 20 (as we have 20 categories in pascal voc dataset)\n",
        "2. For 'train_input_reader' change 'input_path' to filepath of train.record file.\n",
        "3. For 'train_input_reader' change 'label_map_path' to filepath of pascal_voc.pbtxt file.\n",
        "4. Repeat above two steps for 'eval_input_reader'.\n",
        "5. Change fine_tune_checkpoint to filepath where pre-trained model.ckpt file is available e.g ssd_mobilenet_v2_320x320_coco17_tpu-8/checkpoint/ckpt-0\n",
        "6. Change 'batch_size' accordingly to available memory.\n",
        "7. Change 'num_steps' to indicate how long the training will done e.g. 200000. For demo purpose, we are keeping it to 20 so that we can finish training quickly.\n"
      ]
    },
    {
      "cell_type": "markdown",
      "metadata": {
        "id": "Zd2oF4RATqCe"
      },
      "source": [
        "You can copy a sample configuration for the chosen pre-trained model (SSD MobileNet v2 320x320) in this case from [Configs](https://github.com/tensorflow/models/tree/master/research/object_detection/configs/tf2) folder. Here are things which need to be changed at a minimum."
      ]
    },
    {
      "cell_type": "markdown",
      "metadata": {
        "id": "z5qSjVS2NNFV"
      },
      "source": [
        "Set Config file name"
      ]
    },
    {
      "cell_type": "code",
      "execution_count": null,
      "metadata": {
        "id": "fuPDh-FcNMJZ"
      },
      "outputs": [],
      "source": [
        "config_file = 'ssd_mobilenet_v2_modified.config'"
      ]
    },
    {
      "cell_type": "markdown",
      "metadata": {
        "id": "MbCourM9jMGd"
      },
      "source": [
        "#### 8. Training the model"
      ]
    },
    {
      "cell_type": "code",
      "execution_count": null,
      "metadata": {
        "id": "Z1k412IGjP_d"
      },
      "outputs": [],
      "source": [
        "#Copy training file from 'models/research/object_detection' folder to current folder\n",
        "!cp /content/models/research/object_detection/model_main_tf2.py ."
      ]
    },
    {
      "cell_type": "code",
      "execution_count": null,
      "metadata": {
        "id": "_B82kA4CjkWM"
      },
      "outputs": [],
      "source": [
        "!ls -l"
      ]
    },
    {
      "cell_type": "markdown",
      "metadata": {
        "id": "-cNtnArWwKiZ"
      },
      "source": [
        "Start training \n",
        "\n",
        "- Please note that Object detection take long time to train. The training may take few days if run on single GPU machine (depending on num of steps indicated). Try to keep training the model till loss comes close to 1 (or goes below 1). The script takes 3 inputs\n",
        "\n",
        "1. --model_dir=<folder_name> : where model will be saved periodically as training progresses\n",
        "2. --pipeline_config_path=<config_file_path> :where is model training configuration file located."
      ]
    },
    {
      "cell_type": "code",
      "execution_count": null,
      "metadata": {
        "id": "YYSZ3lU8jrlq"
      },
      "outputs": [],
      "source": [
        "#Create a training folder to store model checkpoints/snapshots as training progresses\n",
        "!mkdir training"
      ]
    },
    {
      "cell_type": "code",
      "execution_count": null,
      "metadata": {
        "id": "RQLMnw-B43BR"
      },
      "outputs": [],
      "source": [
        "#Check training folder\n",
        "!ls -l training"
      ]
    },
    {
      "cell_type": "code",
      "execution_count": null,
      "metadata": {
        "id": "6sNQzqpxjnB4"
      },
      "outputs": [],
      "source": [
        "#start training\n",
        "!python model_main_tf2.py --model_dir=training/ --pipeline_config_path={config_file} --checkpoint_every_n=100 --alsologtostderr"
      ]
    },
    {
      "cell_type": "markdown",
      "metadata": {
        "id": "R1bNNQ2pzxW8"
      },
      "source": [
        "Model Evaluation"
      ]
    },
    {
      "cell_type": "markdown",
      "metadata": {
        "id": "ea3CVJqnGWg7"
      },
      "source": [
        "#### Training and Evaluation in Background"
      ]
    },
    {
      "cell_type": "markdown",
      "metadata": {
        "id": "ust7kYHQ0mh6"
      },
      "source": [
        "If we want to evaluate our model on training data regularly, we have to run both training and evaluation script in parallel. Model evaluation on test data gets done everytime model checkpoint is saved during training."
      ]
    },
    {
      "cell_type": "markdown",
      "metadata": {
        "id": "uxbue-P4kEvi"
      },
      "source": [
        "#### 9. Export trained model\n",
        "\n",
        "From the saved model checkpoints, we will create a frozen trained model. Frozen here means to remove model nodes which are no longer needed in prediction. This reduces model size."
      ]
    },
    {
      "cell_type": "code",
      "execution_count": null,
      "metadata": {
        "id": "P7MVmgSQkLov"
      },
      "outputs": [],
      "source": [
        "#Copy export_inference_graph.py file from models/research/object_detection to current directory\n",
        "!cp /content/models/research/object_detection/exporter_main_v2.py ."
      ]
    },
    {
      "cell_type": "code",
      "execution_count": null,
      "metadata": {
        "id": "_59ZQxnmkay5"
      },
      "outputs": [],
      "source": [
        "!ls -l"
      ]
    },
    {
      "cell_type": "markdown",
      "metadata": {
        "id": "45hd528oMlpy"
      },
      "source": [
        "The export_inference_graph.py script file requires the following input:\n",
        "\n",
        "1. --input_type <input_node_name> : This will be used during prediction to set model input\n",
        "2. --pipeline_config_path <model_training_config_file_path> : where is model training config file located.\n",
        "3. --trained_checkpoint_prefix <file_path__model_checkpoint> : Which checkpoint should be used to create final model.\n",
        "4. --output_directory <frozen_model_directory> : where should the frozen model created by script should be stored."
      ]
    },
    {
      "cell_type": "code",
      "execution_count": null,
      "metadata": {
        "id": "bwKWqRcwkHz7"
      },
      "outputs": [],
      "source": [
        "#Provide input name, config file location, training folder\n",
        "!python exporter_main_v2.py --input_type \"image_tensor\" --pipeline_config_path {config_file} --trained_checkpoint_dir training/ --output_directory detection_model"
      ]
    },
    {
      "cell_type": "code",
      "execution_count": null,
      "metadata": {
        "id": "hWyV4UK9zOCp"
      },
      "outputs": [],
      "source": [
        "label_class_dict"
      ]
    },
    {
      "cell_type": "markdown",
      "metadata": {
        "id": "FtZnLR1ckdbS"
      },
      "source": [
        "#### Model Prediction"
      ]
    },
    {
      "cell_type": "code",
      "execution_count": null,
      "metadata": {
        "id": "Sk6AdwT7kfPE"
      },
      "outputs": [],
      "source": [
        "import tensorflow as tf"
      ]
    },
    {
      "cell_type": "markdown",
      "metadata": {
        "id": "9W9CfkGn9viy"
      },
      "source": [
        "Load Saved model"
      ]
    },
    {
      "cell_type": "code",
      "execution_count": null,
      "metadata": {
        "id": "sGcnbCBGklP2"
      },
      "outputs": [],
      "source": [
        "saved_model_path = 'detection_model/saved_model' #/gdrive/My Drive/AI-ML/models/pascal_voc_tf2/\n",
        "model = tf.saved_model.load(saved_model_path)"
      ]
    },
    {
      "cell_type": "markdown",
      "metadata": {
        "id": "2vhAv2id1xk9"
      },
      "source": [
        "Function to get model prediction"
      ]
    },
    {
      "cell_type": "code",
      "execution_count": null,
      "metadata": {
        "id": "W0i6SCaplWqP"
      },
      "outputs": [],
      "source": [
        "#Function to get predictions from a Detection model\n",
        "def detector_prediction(image_file, img_array=None, confidence_threshold=0.5):\n",
        "\n",
        "    \"\"\"\n",
        "    image_file: File path of the image for which prediction needs to be done\n",
        "    img_array: only considered if image_file is not specified\n",
        "    confidence_threshold: Minimum confidence/probability for prediction to be considered\n",
        "    \"\"\"\n",
        "    #Load image\n",
        "    if(image_file):\n",
        "        img = tf.keras.preprocessing.image.load_img(image_file)\n",
        "        img_array = tf.keras.preprocessing.image.img_to_array(img).astype('uint8')\n",
        "    \n",
        "    #Make it a batch of one example\n",
        "    img_array = tf.expand_dims(img_array, axis=0)\n",
        "\n",
        "    #Prediction\n",
        "    output = model(img_array) #get list of tensors discussed above as output\n",
        "    \n",
        "    #print(output)\n",
        "    detection_classes = output['detection_classes'].numpy()[0]\n",
        "    detection_scores = output['detection_scores'].numpy()[0] #get detection scores\n",
        "    detection_boxes = output['detection_boxes'].numpy()[0]\n",
        "\n",
        "    #Select predictions for which probability is higher than confidence_threshold\n",
        "    selected_predictions = detection_scores >= confidence_threshold\n",
        "\n",
        "    selected_prediction_scores = detection_scores[selected_predictions]\n",
        "    selected_prediction_classes = detection_classes[selected_predictions]\n",
        "    selected_prediction_boxes = detection_boxes[selected_predictions]\n",
        "\n",
        "    #De-normalize box co-ordinates (multiply x-coordinates by image width and y-coords by image height)\n",
        "    img_h, img_w = img_array.shape[1:3]\n",
        "\n",
        "    for i in range(selected_prediction_boxes.shape[0]):\n",
        "        \n",
        "        selected_prediction_boxes[i,0] *= img_h #ymin * img_w\n",
        "        selected_prediction_boxes[i,1] *= img_w #xmin * img_h\n",
        "        selected_prediction_boxes[i,2] *= img_h #ymax * img_w\n",
        "        selected_prediction_boxes[i,3] *= img_w #xmax * img_h\n",
        "\n",
        "    #Make all co-ordinates as integer\n",
        "    selected_prediction_boxes= selected_prediction_boxes.astype(int)\n",
        "\n",
        "    #Convert class indexes to actual class labels\n",
        "    predicted_classes = []\n",
        "    for i in range(selected_prediction_classes.shape[0]):\n",
        "        predicted_classes.append(label_class_dict[int(selected_prediction_classes[i])])\n",
        "\n",
        "    #Number of predictions\n",
        "    selected_num_predictions = selected_prediction_boxes.shape[0]\n",
        "\n",
        "    return {'Total Predictions': selected_num_predictions,\n",
        "            'Classes': predicted_classes, \n",
        "            'Scores': selected_prediction_scores, \n",
        "            'Box coordinates': selected_prediction_boxes}"
      ]
    },
    {
      "cell_type": "code",
      "execution_count": null,
      "metadata": {
        "id": "XsqFy4O-J6iT"
      },
      "outputs": [],
      "source": [
        "tf.keras.preprocessing.image.load_img('/content/detection/quality_inspection/test/fr1299.jpg')"
      ]
    },
    {
      "cell_type": "code",
      "execution_count": null,
      "metadata": {
        "id": "O7MEewOAmLUb"
      },
      "outputs": [],
      "source": [
        "#Model output\n",
        "detector_prediction('/content/detection/quality_inspection/test/fr1299.jpg', confidence_threshold=0.6)"
      ]
    },
    {
      "cell_type": "markdown",
      "metadata": {
        "id": "XvZqpVaF1Tpo"
      },
      "source": [
        "Visualize model output"
      ]
    },
    {
      "cell_type": "code",
      "execution_count": null,
      "metadata": {
        "id": "03U3uDUO1NDA"
      },
      "outputs": [],
      "source": [
        "import cv2\n",
        "from matplotlib import pyplot as plt"
      ]
    },
    {
      "cell_type": "code",
      "execution_count": null,
      "metadata": {
        "id": "gmInmPGz1WsW"
      },
      "outputs": [],
      "source": [
        "def visualize_output(image_file, confidence_threshold=0.5):\n",
        "\n",
        "    #Call model prediction function above\n",
        "    output = detector_prediction(image_file, confidence_threshold=confidence_threshold)\n",
        "\n",
        "    #Read image\n",
        "    img = cv2.imread(image_file)\n",
        "\n",
        "    #Draw rectangle for predicted boxes, also add predicted classes\n",
        "    for i in range(output['Box coordinates'].shape[0]):\n",
        "\n",
        "        box = output['Box coordinates'][i]\n",
        "        \n",
        "        #Draw rectangle - (ymin, xmin, ymax, xmax)\n",
        "        img = cv2.rectangle(img, (box[1], box[0]), (box[3], box[2]), (0,0,255), 3)\n",
        "        \n",
        "        #Add Label - Class name and confidence level\n",
        "        label = output['Classes'][i] + ': ' + str(round(output['Scores'][i],2))\n",
        "        img = cv2.putText(img, label, (box[1], box[0]-10), cv2.FONT_HERSHEY_SIMPLEX, 1, (255,255,255), 2, cv2.LINE_AA)\n",
        "    \n",
        "    #Conver BGR image to RGB to use with Matplotlib\n",
        "    img = cv2.cvtColor(img, cv2.COLOR_BGR2RGB)\n",
        "\n",
        "    #Display image\n",
        "    plt.figure(figsize=(10,6))\n",
        "    plt.imshow(img)\n",
        "    plt.show()"
      ]
    },
    {
      "cell_type": "code",
      "execution_count": null,
      "metadata": {
        "id": "QKTH6Zys1YQ2"
      },
      "outputs": [],
      "source": [
        "#Visualize on image\n",
        "visualize_output('/content/detection/quality_inspection/test/fr1025.jpg', confidence_threshold=0.5)"
      ]
    },
    {
      "cell_type": "code",
      "source": [],
      "metadata": {
        "id": "0QuAlp5HV7SS"
      },
      "execution_count": null,
      "outputs": []
    }
  ],
  "metadata": {
    "accelerator": "GPU",
    "colab": {
      "private_outputs": true,
      "provenance": [],
      "include_colab_link": true
    },
    "kernelspec": {
      "display_name": "Python 3",
      "language": "python",
      "name": "python3"
    },
    "language_info": {
      "codemirror_mode": {
        "name": "ipython",
        "version": 3
      },
      "file_extension": ".py",
      "mimetype": "text/x-python",
      "name": "python",
      "nbconvert_exporter": "python",
      "pygments_lexer": "ipython3",
      "version": "3.8.8"
    },
    "gpuClass": "standard"
  },
  "nbformat": 4,
  "nbformat_minor": 0
}